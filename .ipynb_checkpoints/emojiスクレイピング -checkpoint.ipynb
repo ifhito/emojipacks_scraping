{
 "cells": [
  {
   "cell_type": "code",
   "execution_count": 46,
   "metadata": {},
   "outputs": [
    {
     "name": "stdout",
     "output_type": "stream",
     "text": [
      "test93\n",
      "end\n"
     ]
    }
   ],
   "source": [
    "import requests\n",
    "import re\n",
    "import uuid\n",
    "import os\n",
    "from bs4 import BeautifulSoup\n",
    "import random\n",
    "#get_url\n",
    "url = \"https://emojipacks.com/hogehoge\"#ここにURLを入れる\n",
    "r = requests.get(url)\n",
    "\n",
    "#スクレイピング \n",
    "soup = BeautifulSoup(r.text,'lxml')\n",
    "\n",
    "#画像\n",
    "imgs = soup.find_all('img')\n",
    "\n",
    "#画像タイトル\n",
    "name=soup.find_all(class_=\"mt3 gray\")\n",
    "title=soup.find(\"h1\", class_=\"f1 fw3\").string\n",
    "#title.replace(u\"\\t\",\"\")\n",
    "#print(title)\n",
    "\n",
    "#タイトルがNoneならば、ランダムな名前をつける\n",
    "if title is not None:\n",
    "    title = re.sub('[\\t\\n]+$', '', title)\n",
    "elif title is None:\n",
    "    title=\"test\"+str(random.randrange(100))\n",
    "\n",
    "#名前を手に入れるために持ってきたやつにはhtmlのコードが含まれているので成形\n",
    "for i,img in enumerate(name):\n",
    "    r = re.compile('(%s.*%s)' % (\":\" , \":\"), flags=re.DOTALL) \n",
    "    m = r.search(str(img))\n",
    "    name[i]=m.group()\n",
    "\n",
    "#print(name)\n",
    "#print(imgs)\n",
    "\n",
    "#ディレクトリ作成\n",
    "os.mkdir(str(\"emoji/\")+title+str(\"/\"))\n",
    "\n",
    "#写真に名前をつけて保存\n",
    "for img,nam in zip(imgs,name):\n",
    "        #print(img['src'])\n",
    "        r = requests.get(img['src'])\n",
    "        file_name =str(nam)+ str('.png')\n",
    "        with open(str(\"emoji/\")+title+str(\"/\")+file_name,'wb') as file:#emojiディレクトリに保存\n",
    "                file.write(r.content)\n",
    "\n",
    "print(title)\n",
    "print(\"end\")"
   ]
  }
 ],
 "metadata": {
  "kernelspec": {
   "display_name": "Python 3",
   "language": "python",
   "name": "python3"
  },
  "language_info": {
   "codemirror_mode": {
    "name": "ipython",
    "version": 3
   },
   "file_extension": ".py",
   "mimetype": "text/x-python",
   "name": "python",
   "nbconvert_exporter": "python",
   "pygments_lexer": "ipython3",
   "version": "3.6.5"
  }
 },
 "nbformat": 4,
 "nbformat_minor": 2
}
